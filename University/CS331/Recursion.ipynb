{
 "cells": [
  {
   "cell_type": "markdown",
   "metadata": {},
   "source": [
    "# Recursion\n",
    "\n",
    "## Overview"
   ]
  },
  {
   "cell_type": "markdown",
   "metadata": {},
   "source": [
    "For this assignment you will implement two recursive functions which both generate tree-shaped recursive processes, as a bit of a warmup for the upcoming binary tree data structure implementation."
   ]
  },
  {
   "cell_type": "markdown",
   "metadata": {},
   "source": [
    "## Tree recursive processes"
   ]
  },
  {
   "cell_type": "markdown",
   "metadata": {},
   "source": [
    "### Ackermann's function\n",
    "\n",
    "Ackermann's function is defined by the following recurrence:\n",
    "\n",
    "$A(m, n) = \n",
    "\\begin{cases}\n",
    "n+1 & \\mbox{if } m = 0 \\\\\n",
    "A(m-1, 1) & \\mbox{if } m > 0 \\mbox{ and } n = 0 \\\\\n",
    "A(m-1, A(m, n-1)) & \\mbox{if } m > 0 \\mbox{ and } n > 0.\n",
    "\\end{cases}$\n",
    "\n",
    "You can read more about [Ackermann's function on Wikipedia](https://en.wikipedia.org/wiki/Ackermann_function).\n",
    "\n",
    "Complete the following function, which should return the computed value of Ackermann's function for arguments `m` and `n`:"
   ]
  },
  {
   "cell_type": "code",
   "execution_count": null,
   "metadata": {
    "collapsed": true,
    "deletable": false,
    "nbgrader": {
     "checksum": "b5406b6370cd524e782dfd030d720c0e",
     "grade": false,
     "grade_id": "ackermanss",
     "locked": false,
     "solution": true
    }
   },
   "outputs": [],
   "source": [
    "def ackermanns(m, n):\n",
    "    # YOUR CODE HERE\n",
    "    raise NotImplementedError()"
   ]
  },
  {
   "cell_type": "code",
   "execution_count": null,
   "metadata": {
    "collapsed": false,
    "deletable": false,
    "nbgrader": {
     "checksum": "b243cf01bbee61ef78f4cd0243f86794",
     "grade": true,
     "grade_id": "ack_tests",
     "locked": true,
     "points": 5,
     "solution": false
    }
   },
   "outputs": [],
   "source": [
    "from unittest import TestCase\n",
    "\n",
    "tc = TestCase()\n",
    "\n",
    "tc.assertEqual(ackermanns(0, 1), 2)\n",
    "tc.assertEqual(ackermanns(1, 10), 12)\n",
    "tc.assertEqual(ackermanns(2, 10), 23)\n",
    "tc.assertEqual(ackermanns(3, 4), 125)\n",
    "tc.assertEqual(ackermanns(4, 0), 13)"
   ]
  },
  {
   "cell_type": "markdown",
   "metadata": {},
   "source": [
    "## Pascal's triangle"
   ]
  },
  {
   "cell_type": "markdown",
   "metadata": {},
   "source": [
    "Pascal's triangle is a triangle arrangement of numbers where the top row contains the single number `1`, and the values in each following (centered) row are the sum of the value(s) in the row above. The following first five rows of Pascal's triangle should help demonstrate the idea:\n",
    "\n",
    "              1\n",
    "             1 1\n",
    "            1 2 1\n",
    "           1 3 3 1\n",
    "          1 4 6 4 1\n",
    "      \n",
    "By convention, the rows and columns of Pascal's triangle are numbered starting from 0 — note that the 0th column of every row contains the value 1. To aid in the computation of edge cases (columns in rows that do not have two values above them), it is also convenient to imagine that there are columns in row 0 extending off in both directions that contain 0s. I.e., we might envision the first row of Pascal's triangle as follows:\n",
    "\n",
    "    ... 0 0 0 1 0 0 0 ...\n",
    "             1 1\n",
    "            1 2 1\n",
    "           1 3 3 1\n",
    "          1 4 6 4 1\n",
    "\n",
    "Wolfram Mathworld has a good writeup on the [properties and provenance of Pascal's Triangle](http://mathworld.wolfram.com/PascalsTriangle.html).\n",
    "\n",
    "Complete the following function, which returns the value to be found in a given row and column of Pascal's triangle."
   ]
  },
  {
   "cell_type": "code",
   "execution_count": null,
   "metadata": {
    "collapsed": true,
    "deletable": false,
    "nbgrader": {
     "checksum": "b83dde2977f8dbdd64ee0f16d729b3c1",
     "grade": false,
     "grade_id": "pascals",
     "locked": false,
     "solution": true
    }
   },
   "outputs": [],
   "source": [
    "def pascals(row, column):\n",
    "    # YOUR CODE HERE\n",
    "    raise NotImplementedError()"
   ]
  },
  {
   "cell_type": "code",
   "execution_count": null,
   "metadata": {
    "collapsed": false
   },
   "outputs": [],
   "source": [
    "# generate the first 10 rows of Pascal's Triangle\n",
    "for row in range(10):\n",
    "    print('{: ^45}'.format(' '.join(str(pascals(row, col)) for col in range(row+1))))"
   ]
  },
  {
   "cell_type": "code",
   "execution_count": null,
   "metadata": {
    "collapsed": false,
    "deletable": false,
    "nbgrader": {
     "checksum": "55a7253d8b756285a43b93f8e14d7510",
     "grade": true,
     "grade_id": "pascal_tests",
     "locked": true,
     "points": 5,
     "solution": false
    }
   },
   "outputs": [],
   "source": [
    "from unittest import TestCase\n",
    "\n",
    "tc = TestCase()\n",
    "\n",
    "tc.assertEqual(pascals(0, 0), 1)\n",
    "tc.assertEqual(pascals(1, 0), 1)\n",
    "tc.assertEqual(pascals(2, 1), 2)\n",
    "tc.assertEqual(pascals(5, 1), 5)\n",
    "tc.assertEqual(pascals(5, 2), 10)\n",
    "tc.assertEqual(pascals(10, 5), 252)"
   ]
  }
 ],
 "metadata": {
  "kernelspec": {
   "display_name": "Python 3",
   "language": "python",
   "name": "python3"
  },
  "language_info": {
   "codemirror_mode": {
    "name": "ipython",
    "version": 3
   },
   "file_extension": ".py",
   "mimetype": "text/x-python",
   "name": "python",
   "nbconvert_exporter": "python",
   "pygments_lexer": "ipython3",
   "version": "3.4.3"
  }
 },
 "nbformat": 4,
 "nbformat_minor": 0
}
